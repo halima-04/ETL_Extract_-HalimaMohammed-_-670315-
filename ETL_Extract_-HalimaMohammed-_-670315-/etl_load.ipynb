{
 "cells": [
  {
   "cell_type": "code",
   "execution_count": null,
   "id": "f3f1558c",
   "metadata": {},
   "outputs": [],
   "source": [
    "#Section 1: Load Setup\n",
    "import pandas as pd\n",
    "import sqlite3\n",
    "from pathlib import Path\n",
    "\n",
    "# Paths\n",
    "full_csv_path = \"transformed_full.csv\"\n",
    "inc_csv_path = \"transformed_incremental.csv\"\n",
    "output_dir = Path(\"loaded_data\")\n",
    "output_dir.mkdir(exist_ok=True)\n",
    "\n",
    "\n"
   ]
  },
  {
   "cell_type": "code",
   "execution_count": 2,
   "id": "f225d090",
   "metadata": {},
   "outputs": [],
   "source": [
    "#Section 2: Load Full Transformed Data (SQLite)\n",
    "df_full = pd.read_csv(full_csv_path)\n",
    "conn_full = sqlite3.connect(output_dir / \"full_data.db\")\n",
    "df_full.to_sql(\"full_data\", conn_full, if_exists=\"replace\", index=False)\n",
    "conn_full.close()\n"
   ]
  },
  {
   "cell_type": "code",
   "execution_count": 3,
   "id": "885eff5d",
   "metadata": {},
   "outputs": [],
   "source": [
    "#Section 3: Load Incremental Transformed Data\n",
    "df_inc = pd.read_csv(inc_csv_path)\n",
    "conn_inc = sqlite3.connect(output_dir / \"incremental_data.db\")\n",
    "df_inc.to_sql(\"incremental_data\", conn_inc, if_exists=\"replace\", index=False)\n",
    "conn_inc.close()\n"
   ]
  },
  {
   "cell_type": "code",
   "execution_count": 5,
   "id": "8991a57c",
   "metadata": {},
   "outputs": [
    {
     "data": {
      "text/html": [
       "<div>\n",
       "<style scoped>\n",
       "    .dataframe tbody tr th:only-of-type {\n",
       "        vertical-align: middle;\n",
       "    }\n",
       "\n",
       "    .dataframe tbody tr th {\n",
       "        vertical-align: top;\n",
       "    }\n",
       "\n",
       "    .dataframe thead th {\n",
       "        text-align: right;\n",
       "    }\n",
       "</style>\n",
       "<table border=\"1\" class=\"dataframe\">\n",
       "  <thead>\n",
       "    <tr style=\"text-align: right;\">\n",
       "      <th></th>\n",
       "      <th>SaleID</th>\n",
       "      <th>Product</th>\n",
       "      <th>Amount</th>\n",
       "      <th>Tax</th>\n",
       "      <th>Total</th>\n",
       "      <th>SaleDate</th>\n",
       "    </tr>\n",
       "  </thead>\n",
       "  <tbody>\n",
       "    <tr>\n",
       "      <th>0</th>\n",
       "      <td>1</td>\n",
       "      <td>Laptop</td>\n",
       "      <td>1138.17</td>\n",
       "      <td>113.817</td>\n",
       "      <td>1251.987</td>\n",
       "      <td>2024-01-29</td>\n",
       "    </tr>\n",
       "    <tr>\n",
       "      <th>1</th>\n",
       "      <td>2</td>\n",
       "      <td>Phone</td>\n",
       "      <td>295.35</td>\n",
       "      <td>29.535</td>\n",
       "      <td>324.885</td>\n",
       "      <td>2024-03-03</td>\n",
       "    </tr>\n",
       "    <tr>\n",
       "      <th>2</th>\n",
       "      <td>3</td>\n",
       "      <td>Monitor</td>\n",
       "      <td>221.71</td>\n",
       "      <td>22.171</td>\n",
       "      <td>243.881</td>\n",
       "      <td>2024-01-27</td>\n",
       "    </tr>\n",
       "    <tr>\n",
       "      <th>3</th>\n",
       "      <td>4</td>\n",
       "      <td>Laptop</td>\n",
       "      <td>141.72</td>\n",
       "      <td>14.172</td>\n",
       "      <td>155.892</td>\n",
       "      <td>2024-04-18</td>\n",
       "    </tr>\n",
       "    <tr>\n",
       "      <th>4</th>\n",
       "      <td>5</td>\n",
       "      <td>Phone</td>\n",
       "      <td>807.50</td>\n",
       "      <td>80.750</td>\n",
       "      <td>888.250</td>\n",
       "      <td>2024-02-25</td>\n",
       "    </tr>\n",
       "  </tbody>\n",
       "</table>\n",
       "</div>"
      ],
      "text/plain": [
       "   SaleID  Product   Amount      Tax     Total    SaleDate\n",
       "0       1   Laptop  1138.17  113.817  1251.987  2024-01-29\n",
       "1       2    Phone   295.35   29.535   324.885  2024-03-03\n",
       "2       3  Monitor   221.71   22.171   243.881  2024-01-27\n",
       "3       4   Laptop   141.72   14.172   155.892  2024-04-18\n",
       "4       5    Phone   807.50   80.750   888.250  2024-02-25"
      ]
     },
     "execution_count": 5,
     "metadata": {},
     "output_type": "execute_result"
    }
   ],
   "source": [
    "#Section 4: Verification\n",
    "conn = sqlite3.connect(output_dir / \"full_data.db\")\n",
    "pd.read_sql(\"SELECT * FROM full_data LIMIT 5;\", conn)\n",
    "\n"
   ]
  }
 ],
 "metadata": {
  "kernelspec": {
   "display_name": "Python 3",
   "language": "python",
   "name": "python3"
  },
  "language_info": {
   "codemirror_mode": {
    "name": "ipython",
    "version": 3
   },
   "file_extension": ".py",
   "mimetype": "text/x-python",
   "name": "python",
   "nbconvert_exporter": "python",
   "pygments_lexer": "ipython3",
   "version": "3.12.10"
  }
 },
 "nbformat": 4,
 "nbformat_minor": 5
}
