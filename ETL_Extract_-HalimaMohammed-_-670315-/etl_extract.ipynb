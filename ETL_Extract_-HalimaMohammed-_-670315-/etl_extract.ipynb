{
 "cells": [
  {
   "cell_type": "code",
   "execution_count": 8,
   "id": "12b6e3db",
   "metadata": {},
   "outputs": [],
   "source": [
    "import pandas as pd \n",
    "df = pd.read_csv(r\"C:\\Users\\Salma\\New folder\\OneDrive\\Desktop\\LAB 3\\custom_data.csv\")\n"
   ]
  },
  {
   "cell_type": "code",
   "execution_count": 10,
   "id": "937d2a22",
   "metadata": {},
   "outputs": [
    {
     "name": "stdout",
     "output_type": "stream",
     "text": [
      "Rows: 100\n",
      "Columns: 4\n",
      "   SaleID  Product   Amount            Timestamp\n",
      "0       1   Laptop  1138.17  2024-01-29 00:00:00\n",
      "1       2    Phone   295.35  2024-03-03 00:00:00\n",
      "2       3  Monitor   221.71  2024-01-27 00:00:00\n",
      "3       4   Laptop   141.72  2024-04-18 00:00:00\n",
      "4       5    Phone   807.50  2024-02-25 00:00:00\n",
      "Extracted 100 rows fully.\n"
     ]
    }
   ],
   "source": [
    "import pandas as pd\n",
    "\n",
    "# Load dataset\n",
    "df = pd.read_csv(r\"C:\\Users\\Salma\\New folder\\OneDrive\\Desktop\\LAB 3\\custom_data.csv\")\n",
    "\n",
    "# Basic stats\n",
    "print(\"Rows:\", df.shape[0])\n",
    "print(\"Columns:\", df.shape[1])\n",
    "print(df.head())\n",
    "\n",
    "print(f\"Extracted {df.shape[0]} rows fully.\")\n"
   ]
  },
  {
   "cell_type": "code",
   "execution_count": 12,
   "id": "6982fcd8",
   "metadata": {},
   "outputs": [
    {
     "name": "stdout",
     "output_type": "stream",
     "text": [
      "Last extraction was at: \n",
      "Extracted 0 rows incrementally since last check.\n",
      "Empty DataFrame\n",
      "Columns: [SaleID, Product, Amount, Timestamp]\n",
      "Index: []\n"
     ]
    }
   ],
   "source": [
    "from datetime import datetime\n",
    "\n",
    "# Read last extraction timestamp\n",
    "with open('last_extraction.txt', 'r') as f:\n",
    "    last_timestamp = f.read().strip()\n",
    "\n",
    "print(\"Last extraction was at:\", last_timestamp)\n",
    "\n",
    "# Convert strings to datetime\n",
    "df['Timestamp'] = pd.to_datetime(df['Timestamp'])\n",
    "last_extracted_dt = pd.to_datetime(last_timestamp)\n",
    "\n",
    "# Filter new records\n",
    "new_data = df[df['Timestamp'] > last_extracted_dt]\n",
    "print(f\"Extracted {len(new_data)} rows incrementally since last check.\")\n",
    "print(new_data.head())\n"
   ]
  },
  {
   "cell_type": "code",
   "execution_count": 13,
   "id": "60b9be81",
   "metadata": {},
   "outputs": [
    {
     "name": "stdout",
     "output_type": "stream",
     "text": [
      "Updated last_extraction.txt to: 2025-06-08 21:46:11\n"
     ]
    }
   ],
   "source": [
    "# Update timestamp\n",
    "new_timestamp = datetime.now().strftime(\"%Y-%m-%d %H:%M:%S\")\n",
    "\n",
    "with open('last_extraction.txt', 'w') as f:\n",
    "    f.write(new_timestamp)\n",
    "\n",
    "print(\"Updated last_extraction.txt to:\", new_timestamp)\n"
   ]
  }
 ],
 "metadata": {
  "kernelspec": {
   "display_name": "Python 3",
   "language": "python",
   "name": "python3"
  },
  "language_info": {
   "codemirror_mode": {
    "name": "ipython",
    "version": 3
   },
   "file_extension": ".py",
   "mimetype": "text/x-python",
   "name": "python",
   "nbconvert_exporter": "python",
   "pygments_lexer": "ipython3",
   "version": "3.12.10"
  }
 },
 "nbformat": 4,
 "nbformat_minor": 5
}
